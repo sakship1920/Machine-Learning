{
  "nbformat": 4,
  "nbformat_minor": 0,
  "metadata": {
    "colab": {
      "name": "mobileprice.ipynb",
      "provenance": [],
      "authorship_tag": "ABX9TyPG6AfZIZ7O0mBCrSOEH9fM",
      "include_colab_link": true
    },
    "kernelspec": {
      "name": "python3",
      "display_name": "Python 3"
    }
  },
  "cells": [
    {
      "cell_type": "markdown",
      "metadata": {
        "id": "view-in-github",
        "colab_type": "text"
      },
      "source": [
        "<a href=\"https://colab.research.google.com/github/sakship1920/Machine-Learning/blob/main/mobileprice.ipynb\" target=\"_parent\"><img src=\"https://colab.research.google.com/assets/colab-badge.svg\" alt=\"Open In Colab\"/></a>"
      ]
    },
    {
      "cell_type": "code",
      "metadata": {
        "id": "Q0X1qLwHf0zy"
      },
      "source": [
        "  import pandas as pd\n",
        "  import numpy as np\n",
        "  import matplotlib.pyplot as mlt\n",
        "  import seaborn as sns\n",
        "  from sklearn.model_selection import train_test_split,cross_val_score\n",
        "  from sklearn.metrics import accuracy_score,roc_auc_score,roc_curve\n",
        "  %matplotlib inline\n",
        "  import warnings\n",
        "  warnings.filterwarnings(\"ignore\",category=DeprecationWarning)\n"
      ],
      "execution_count": 1,
      "outputs": []
    },
    {
      "cell_type": "code",
      "metadata": {
        "id": "_E1APY0diVZ7",
        "outputId": "73d42a9d-dd6a-4412-caa3-99a8af5eedfa",
        "colab": {
          "base_uri": "https://localhost:8080/",
          "height": 224
        }
      },
      "source": [
        "df=pd.read_csv('/content/dataset-35-1-mobile - dataset-35-1-mobile.csv')\n",
        "df.head()"
      ],
      "execution_count": 2,
      "outputs": [
        {
          "output_type": "execute_result",
          "data": {
            "text/html": [
              "<div>\n",
              "<style scoped>\n",
              "    .dataframe tbody tr th:only-of-type {\n",
              "        vertical-align: middle;\n",
              "    }\n",
              "\n",
              "    .dataframe tbody tr th {\n",
              "        vertical-align: top;\n",
              "    }\n",
              "\n",
              "    .dataframe thead th {\n",
              "        text-align: right;\n",
              "    }\n",
              "</style>\n",
              "<table border=\"1\" class=\"dataframe\">\n",
              "  <thead>\n",
              "    <tr style=\"text-align: right;\">\n",
              "      <th></th>\n",
              "      <th>battery_power</th>\n",
              "      <th>blue</th>\n",
              "      <th>clock_speed</th>\n",
              "      <th>dual_sim</th>\n",
              "      <th>fc</th>\n",
              "      <th>four_g</th>\n",
              "      <th>int_memory</th>\n",
              "      <th>m_dep</th>\n",
              "      <th>mobile_wt</th>\n",
              "      <th>n_cores</th>\n",
              "      <th>pc</th>\n",
              "      <th>px_height</th>\n",
              "      <th>px_width</th>\n",
              "      <th>ram</th>\n",
              "      <th>sc_h</th>\n",
              "      <th>sc_w</th>\n",
              "      <th>talk_time</th>\n",
              "      <th>three_g</th>\n",
              "      <th>touch_screen</th>\n",
              "      <th>wifi</th>\n",
              "      <th>price_range</th>\n",
              "    </tr>\n",
              "  </thead>\n",
              "  <tbody>\n",
              "    <tr>\n",
              "      <th>0</th>\n",
              "      <td>842</td>\n",
              "      <td>0</td>\n",
              "      <td>2.2</td>\n",
              "      <td>0</td>\n",
              "      <td>1</td>\n",
              "      <td>0</td>\n",
              "      <td>7</td>\n",
              "      <td>0.6</td>\n",
              "      <td>188</td>\n",
              "      <td>2</td>\n",
              "      <td>2</td>\n",
              "      <td>20</td>\n",
              "      <td>756</td>\n",
              "      <td>2549</td>\n",
              "      <td>9</td>\n",
              "      <td>7</td>\n",
              "      <td>19</td>\n",
              "      <td>0</td>\n",
              "      <td>0</td>\n",
              "      <td>1</td>\n",
              "      <td>1</td>\n",
              "    </tr>\n",
              "    <tr>\n",
              "      <th>1</th>\n",
              "      <td>1021</td>\n",
              "      <td>1</td>\n",
              "      <td>0.5</td>\n",
              "      <td>1</td>\n",
              "      <td>0</td>\n",
              "      <td>1</td>\n",
              "      <td>53</td>\n",
              "      <td>0.7</td>\n",
              "      <td>136</td>\n",
              "      <td>3</td>\n",
              "      <td>6</td>\n",
              "      <td>905</td>\n",
              "      <td>1988</td>\n",
              "      <td>2631</td>\n",
              "      <td>17</td>\n",
              "      <td>3</td>\n",
              "      <td>7</td>\n",
              "      <td>1</td>\n",
              "      <td>1</td>\n",
              "      <td>0</td>\n",
              "      <td>2</td>\n",
              "    </tr>\n",
              "    <tr>\n",
              "      <th>2</th>\n",
              "      <td>563</td>\n",
              "      <td>1</td>\n",
              "      <td>0.5</td>\n",
              "      <td>1</td>\n",
              "      <td>2</td>\n",
              "      <td>1</td>\n",
              "      <td>41</td>\n",
              "      <td>0.9</td>\n",
              "      <td>145</td>\n",
              "      <td>5</td>\n",
              "      <td>6</td>\n",
              "      <td>1263</td>\n",
              "      <td>1716</td>\n",
              "      <td>2603</td>\n",
              "      <td>11</td>\n",
              "      <td>2</td>\n",
              "      <td>9</td>\n",
              "      <td>1</td>\n",
              "      <td>1</td>\n",
              "      <td>0</td>\n",
              "      <td>2</td>\n",
              "    </tr>\n",
              "    <tr>\n",
              "      <th>3</th>\n",
              "      <td>615</td>\n",
              "      <td>1</td>\n",
              "      <td>2.5</td>\n",
              "      <td>0</td>\n",
              "      <td>0</td>\n",
              "      <td>0</td>\n",
              "      <td>10</td>\n",
              "      <td>0.8</td>\n",
              "      <td>131</td>\n",
              "      <td>6</td>\n",
              "      <td>9</td>\n",
              "      <td>1216</td>\n",
              "      <td>1786</td>\n",
              "      <td>2769</td>\n",
              "      <td>16</td>\n",
              "      <td>8</td>\n",
              "      <td>11</td>\n",
              "      <td>1</td>\n",
              "      <td>0</td>\n",
              "      <td>0</td>\n",
              "      <td>2</td>\n",
              "    </tr>\n",
              "    <tr>\n",
              "      <th>4</th>\n",
              "      <td>1821</td>\n",
              "      <td>1</td>\n",
              "      <td>1.2</td>\n",
              "      <td>0</td>\n",
              "      <td>13</td>\n",
              "      <td>1</td>\n",
              "      <td>44</td>\n",
              "      <td>0.6</td>\n",
              "      <td>141</td>\n",
              "      <td>2</td>\n",
              "      <td>14</td>\n",
              "      <td>1208</td>\n",
              "      <td>1212</td>\n",
              "      <td>1411</td>\n",
              "      <td>8</td>\n",
              "      <td>2</td>\n",
              "      <td>15</td>\n",
              "      <td>1</td>\n",
              "      <td>1</td>\n",
              "      <td>0</td>\n",
              "      <td>1</td>\n",
              "    </tr>\n",
              "  </tbody>\n",
              "</table>\n",
              "</div>"
            ],
            "text/plain": [
              "   battery_power  blue  clock_speed  ...  touch_screen  wifi  price_range\n",
              "0            842     0          2.2  ...             0     1            1\n",
              "1           1021     1          0.5  ...             1     0            2\n",
              "2            563     1          0.5  ...             1     0            2\n",
              "3            615     1          2.5  ...             0     0            2\n",
              "4           1821     1          1.2  ...             1     0            1\n",
              "\n",
              "[5 rows x 21 columns]"
            ]
          },
          "metadata": {
            "tags": []
          },
          "execution_count": 2
        }
      ]
    },
    {
      "cell_type": "code",
      "metadata": {
        "id": "zmK8Ou9zijK_"
      },
      "source": [
        "X= df.drop('price_range',axis=1)\n",
        "y=df['price_range']"
      ],
      "execution_count": 3,
      "outputs": []
    },
    {
      "cell_type": "code",
      "metadata": {
        "id": "tCUNxzPfjvKb"
      },
      "source": [
        "\n",
        "X_train,X_test,y_train,y_test= train_test_split(X,y,test_size=0.2,random_state=44)"
      ],
      "execution_count": 4,
      "outputs": []
    },
    {
      "cell_type": "code",
      "metadata": {
        "id": "ODvNL0N3lRuO"
      },
      "source": [
        "from sklearn.tree import DecisionTreeClassifier\n",
        "my_model = DecisionTreeClassifier()\n",
        "result= my_model.fit(X_train,y_train)"
      ],
      "execution_count": 5,
      "outputs": []
    },
    {
      "cell_type": "code",
      "metadata": {
        "id": "aFPANmj7m5nk",
        "outputId": "2b8f25bb-fdeb-46c9-ccb9-79a0de353902",
        "colab": {
          "base_uri": "https://localhost:8080/",
          "height": 340
        }
      },
      "source": [
        "predictions= result.predict(X_test)\n",
        "predictions"
      ],
      "execution_count": 6,
      "outputs": [
        {
          "output_type": "execute_result",
          "data": {
            "text/plain": [
              "array([3, 2, 3, 1, 0, 0, 1, 0, 0, 0, 0, 0, 1, 1, 3, 1, 3, 1, 0, 1, 2, 3,\n",
              "       3, 1, 0, 0, 1, 1, 2, 2, 3, 2, 1, 1, 1, 2, 2, 2, 1, 0, 2, 2, 2, 3,\n",
              "       2, 3, 1, 0, 0, 1, 0, 1, 3, 1, 0, 0, 1, 2, 2, 3, 1, 1, 3, 2, 2, 0,\n",
              "       2, 0, 2, 1, 0, 1, 0, 0, 0, 0, 0, 2, 2, 1, 3, 1, 0, 3, 1, 3, 3, 1,\n",
              "       2, 2, 2, 0, 2, 2, 0, 0, 1, 1, 1, 1, 1, 3, 1, 3, 1, 0, 1, 0, 0, 3,\n",
              "       3, 2, 3, 3, 0, 0, 2, 1, 2, 2, 3, 2, 1, 1, 1, 1, 0, 0, 1, 2, 2, 2,\n",
              "       2, 2, 1, 3, 1, 2, 3, 1, 3, 0, 2, 0, 0, 3, 0, 3, 1, 3, 3, 3, 2, 2,\n",
              "       3, 3, 0, 1, 0, 1, 3, 1, 2, 0, 3, 2, 2, 2, 3, 2, 0, 0, 3, 2, 2, 2,\n",
              "       3, 3, 0, 1, 1, 2, 0, 0, 3, 1, 0, 0, 3, 3, 1, 0, 1, 0, 1, 2, 1, 1,\n",
              "       3, 1, 0, 3, 1, 3, 1, 0, 1, 2, 0, 3, 2, 2, 2, 0, 2, 1, 3, 0, 0, 0,\n",
              "       3, 3, 1, 3, 0, 0, 0, 3, 3, 0, 0, 3, 2, 0, 1, 1, 2, 2, 3, 0, 0, 3,\n",
              "       1, 0, 2, 2, 2, 0, 0, 3, 2, 0, 2, 2, 0, 0, 3, 1, 0, 0, 2, 3, 3, 3,\n",
              "       0, 3, 2, 3, 2, 0, 3, 0, 0, 1, 1, 3, 3, 2, 3, 0, 3, 3, 0, 2, 2, 3,\n",
              "       3, 2, 1, 1, 1, 3, 1, 0, 2, 2, 3, 0, 3, 0, 1, 0, 0, 3, 0, 3, 0, 3,\n",
              "       2, 2, 0, 0, 3, 1, 0, 3, 2, 1, 0, 3, 0, 1, 3, 3, 0, 3, 1, 1, 2, 1,\n",
              "       1, 2, 1, 2, 3, 0, 3, 1, 2, 1, 0, 0, 2, 0, 1, 3, 2, 2, 1, 0, 2, 3,\n",
              "       2, 3, 3, 2, 1, 0, 2, 3, 1, 2, 0, 1, 1, 1, 2, 0, 3, 3, 0, 0, 0, 1,\n",
              "       1, 3, 2, 0, 3, 3, 2, 3, 3, 0, 1, 1, 1, 3, 3, 1, 0, 1, 3, 1, 3, 3,\n",
              "       0, 0, 0, 2])"
            ]
          },
          "metadata": {
            "tags": []
          },
          "execution_count": 6
        }
      ]
    },
    {
      "cell_type": "code",
      "metadata": {
        "id": "k4xm_KWTnqen",
        "outputId": "c75a4f48-4a7a-42e1-e22a-1aeb3cd7e209",
        "colab": {
          "base_uri": "https://localhost:8080/",
          "height": 34
        }
      },
      "source": [
        "from sklearn.metrics import mean_absolute_error,accuracy_score\n",
        "mean_absolute_error(y_test,predictions)"
      ],
      "execution_count": 7,
      "outputs": [
        {
          "output_type": "execute_result",
          "data": {
            "text/plain": [
              "0.16"
            ]
          },
          "metadata": {
            "tags": []
          },
          "execution_count": 7
        }
      ]
    },
    {
      "cell_type": "code",
      "metadata": {
        "id": "ihkyZgwloFY7",
        "outputId": "0b8132ab-627a-4803-aafe-23c625d3750a",
        "colab": {
          "base_uri": "https://localhost:8080/",
          "height": 34
        }
      },
      "source": [
        "accuracy_score(y_test,predictions)"
      ],
      "execution_count": 8,
      "outputs": [
        {
          "output_type": "execute_result",
          "data": {
            "text/plain": [
              "0.84"
            ]
          },
          "metadata": {
            "tags": []
          },
          "execution_count": 8
        }
      ]
    },
    {
      "cell_type": "code",
      "metadata": {
        "id": "rM-vzM_foK7D",
        "outputId": "8c17f316-b79d-4172-e5b5-53a0106944fd",
        "colab": {
          "base_uri": "https://localhost:8080/",
          "height": 69
        }
      },
      "source": [
        "from sklearn.metrics import classification_report\n",
        "matrix= classification_report(y_test,predictions,labels=[1,0])\n",
        "matrix"
      ],
      "execution_count": 9,
      "outputs": [
        {
          "output_type": "execute_result",
          "data": {
            "application/vnd.google.colaboratory.intrinsic+json": {
              "type": "string"
            },
            "text/plain": [
              "'              precision    recall  f1-score   support\\n\\n           1       0.80      0.79      0.79        99\\n           0       0.87      0.91      0.89       106\\n\\n   micro avg       0.84      0.85      0.84       205\\n   macro avg       0.83      0.85      0.84       205\\nweighted avg       0.84      0.85      0.84       205\\n'"
            ]
          },
          "metadata": {
            "tags": []
          },
          "execution_count": 9
        }
      ]
    },
    {
      "cell_type": "code",
      "metadata": {
        "id": "DqMDjkEDqEUu",
        "outputId": "05281825-9543-4f10-ab1d-dd6c748c8208",
        "colab": {
          "base_uri": "https://localhost:8080/",
          "height": 85
        }
      },
      "source": [
        "from sklearn.metrics import confusion_matrix\n",
        "confusion_mat= confusion_matrix(y_test,predictions)\n",
        "confusion_mat"
      ],
      "execution_count": 10,
      "outputs": [
        {
          "output_type": "execute_result",
          "data": {
            "text/plain": [
              "array([[96, 10,  0,  0],\n",
              "       [14, 78,  7,  0],\n",
              "       [ 0, 10, 75, 14],\n",
              "       [ 0,  0,  9, 87]])"
            ]
          },
          "metadata": {
            "tags": []
          },
          "execution_count": 10
        }
      ]
    },
    {
      "cell_type": "code",
      "metadata": {
        "id": "bYRXsGv0rB9K",
        "outputId": "f15118ac-44d6-40a1-da3e-85d14ee89dc5",
        "colab": {
          "base_uri": "https://localhost:8080/",
          "height": 173
        }
      },
      "source": [
        "confusion_df=pd.DataFrame(confusion_mat,index=['Actual Label 0','Actual Label 1','Actual Label 2','Actual Label 3'], columns=['Predicted Label 0','Predicted Label 1','Predicted Label 2','Predicted Label 3'])\n",
        "confusion_df"
      ],
      "execution_count": 11,
      "outputs": [
        {
          "output_type": "execute_result",
          "data": {
            "text/html": [
              "<div>\n",
              "<style scoped>\n",
              "    .dataframe tbody tr th:only-of-type {\n",
              "        vertical-align: middle;\n",
              "    }\n",
              "\n",
              "    .dataframe tbody tr th {\n",
              "        vertical-align: top;\n",
              "    }\n",
              "\n",
              "    .dataframe thead th {\n",
              "        text-align: right;\n",
              "    }\n",
              "</style>\n",
              "<table border=\"1\" class=\"dataframe\">\n",
              "  <thead>\n",
              "    <tr style=\"text-align: right;\">\n",
              "      <th></th>\n",
              "      <th>Predicted Label 0</th>\n",
              "      <th>Predicted Label 1</th>\n",
              "      <th>Predicted Label 2</th>\n",
              "      <th>Predicted Label 3</th>\n",
              "    </tr>\n",
              "  </thead>\n",
              "  <tbody>\n",
              "    <tr>\n",
              "      <th>Actual Label 0</th>\n",
              "      <td>96</td>\n",
              "      <td>10</td>\n",
              "      <td>0</td>\n",
              "      <td>0</td>\n",
              "    </tr>\n",
              "    <tr>\n",
              "      <th>Actual Label 1</th>\n",
              "      <td>14</td>\n",
              "      <td>78</td>\n",
              "      <td>7</td>\n",
              "      <td>0</td>\n",
              "    </tr>\n",
              "    <tr>\n",
              "      <th>Actual Label 2</th>\n",
              "      <td>0</td>\n",
              "      <td>10</td>\n",
              "      <td>75</td>\n",
              "      <td>14</td>\n",
              "    </tr>\n",
              "    <tr>\n",
              "      <th>Actual Label 3</th>\n",
              "      <td>0</td>\n",
              "      <td>0</td>\n",
              "      <td>9</td>\n",
              "      <td>87</td>\n",
              "    </tr>\n",
              "  </tbody>\n",
              "</table>\n",
              "</div>"
            ],
            "text/plain": [
              "                Predicted Label 0  ...  Predicted Label 3\n",
              "Actual Label 0                 96  ...                  0\n",
              "Actual Label 1                 14  ...                  0\n",
              "Actual Label 2                  0  ...                 14\n",
              "Actual Label 3                  0  ...                 87\n",
              "\n",
              "[4 rows x 4 columns]"
            ]
          },
          "metadata": {
            "tags": []
          },
          "execution_count": 11
        }
      ]
    },
    {
      "cell_type": "code",
      "metadata": {
        "id": "1voW_DcKsUxR",
        "outputId": "539814ca-96bb-4111-dbd4-478a72fe112f",
        "colab": {
          "base_uri": "https://localhost:8080/",
          "height": 238
        }
      },
      "source": [
        "from sklearn import metrics\n",
        "print('\\n**Classification Report:\\n',metrics.classification_report(y_test,predictions))"
      ],
      "execution_count": 12,
      "outputs": [
        {
          "output_type": "stream",
          "text": [
            "\n",
            "**Classification Report:\n",
            "               precision    recall  f1-score   support\n",
            "\n",
            "           0       0.87      0.91      0.89       106\n",
            "           1       0.80      0.79      0.79        99\n",
            "           2       0.82      0.76      0.79        99\n",
            "           3       0.86      0.91      0.88        96\n",
            "\n",
            "    accuracy                           0.84       400\n",
            "   macro avg       0.84      0.84      0.84       400\n",
            "weighted avg       0.84      0.84      0.84       400\n",
            "\n"
          ],
          "name": "stdout"
        }
      ]
    },
    {
      "cell_type": "code",
      "metadata": {
        "id": "FcIxk75Vt2zz",
        "outputId": "2370510b-7900-469c-cf77-b4a099af103a",
        "colab": {
          "base_uri": "https://localhost:8080/",
          "height": 34
        }
      },
      "source": [
        "pred_new=list(result.predict([[842,0,2.2,0,1,0,7,0.6,188,2,2,20,756,2549,9,7,19,0,0,1]]))\n",
        "pred_new\n"
      ],
      "execution_count": 13,
      "outputs": [
        {
          "output_type": "execute_result",
          "data": {
            "text/plain": [
              "[1]"
            ]
          },
          "metadata": {
            "tags": []
          },
          "execution_count": 13
        }
      ]
    },
    {
      "cell_type": "code",
      "metadata": {
        "id": "8ITXFPYVuaxd",
        "outputId": "d955e62d-0569-4c97-b6c0-25a64b6e28b7",
        "colab": {
          "base_uri": "https://localhost:8080/",
          "height": 34
        }
      },
      "source": [
        "pred_new=list(result.predict([[1821,0,1.7,4,1,10,0.8,139,8,10,381,1018,3220,13,8,18,1,0,1,1]]))\n",
        "pred_new\n"
      ],
      "execution_count": 14,
      "outputs": [
        {
          "output_type": "execute_result",
          "data": {
            "text/plain": [
              "[0]"
            ]
          },
          "metadata": {
            "tags": []
          },
          "execution_count": 14
        }
      ]
    },
    {
      "cell_type": "code",
      "metadata": {
        "id": "_4BwkO4zuj95"
      },
      "source": [
        ""
      ],
      "execution_count": 14,
      "outputs": []
    }
  ]
}